{
 "cells": [
  {
   "cell_type": "code",
   "execution_count": 1,
   "id": "38eaf6e3",
   "metadata": {},
   "outputs": [],
   "source": [
    "import pandas as pd"
   ]
  },
  {
   "cell_type": "code",
   "execution_count": 2,
   "id": "7e2e539b",
   "metadata": {},
   "outputs": [],
   "source": [
    "books = [\n",
    "    {\n",
    "        \"title\": \"Genetic Algorithms and Machine Learning for Programmers\",\n",
    "        \"price\": 36.99,\n",
    "        \"author\": \"Frances Buontempo\"\n",
    "    },\n",
    "    {\n",
    "        \"title\": \"The Visual Display of Quantitative Information\",\n",
    "        \"price\": 38.00,\n",
    "        \"author\": \"Edward Tufte\"\n",
    "    },\n",
    "    {\n",
    "        \"title\": \"Practical Object-Oriented Design\",\n",
    "        \"author\": \"Sandi Metz\",\n",
    "        \"price\": 30.47\n",
    "    },\n",
    "    {\n",
    "        \"title\": \"Weapons of Math Destruction\",\n",
    "        \"author\": \"Cathy O'Neil\",\n",
    "        \"price\": 17.44\n",
    "    }\n",
    "]"
   ]
  },
  {
   "cell_type": "code",
   "execution_count": 3,
   "id": "4ec9f512",
   "metadata": {},
   "outputs": [
    {
     "data": {
      "text/plain": [
       "[{'title': 'Genetic Algorithms and Machine Learning for Programmers',\n",
       "  'price': 36.99,\n",
       "  'author': 'Frances Buontempo'},\n",
       " {'title': 'The Visual Display of Quantitative Information',\n",
       "  'price': 38.0,\n",
       "  'author': 'Edward Tufte'},\n",
       " {'title': 'Practical Object-Oriented Design',\n",
       "  'author': 'Sandi Metz',\n",
       "  'price': 30.47},\n",
       " {'title': 'Weapons of Math Destruction',\n",
       "  'author': \"Cathy O'Neil\",\n",
       "  'price': 17.44}]"
      ]
     },
     "execution_count": 3,
     "metadata": {},
     "output_type": "execute_result"
    }
   ],
   "source": [
    "books"
   ]
  },
  {
   "cell_type": "code",
   "execution_count": 4,
   "id": "59210851",
   "metadata": {},
   "outputs": [],
   "source": [
    "books = pd.DataFrame(books)"
   ]
  },
  {
   "cell_type": "code",
   "execution_count": 5,
   "id": "edc5cc96",
   "metadata": {},
   "outputs": [
    {
     "data": {
      "text/html": [
       "<div>\n",
       "<style scoped>\n",
       "    .dataframe tbody tr th:only-of-type {\n",
       "        vertical-align: middle;\n",
       "    }\n",
       "\n",
       "    .dataframe tbody tr th {\n",
       "        vertical-align: top;\n",
       "    }\n",
       "\n",
       "    .dataframe thead th {\n",
       "        text-align: right;\n",
       "    }\n",
       "</style>\n",
       "<table border=\"1\" class=\"dataframe\">\n",
       "  <thead>\n",
       "    <tr style=\"text-align: right;\">\n",
       "      <th></th>\n",
       "      <th>title</th>\n",
       "      <th>price</th>\n",
       "      <th>author</th>\n",
       "    </tr>\n",
       "  </thead>\n",
       "  <tbody>\n",
       "    <tr>\n",
       "      <th>0</th>\n",
       "      <td>Genetic Algorithms and Machine Learning for Pr...</td>\n",
       "      <td>36.99</td>\n",
       "      <td>Frances Buontempo</td>\n",
       "    </tr>\n",
       "    <tr>\n",
       "      <th>1</th>\n",
       "      <td>The Visual Display of Quantitative Information</td>\n",
       "      <td>38.00</td>\n",
       "      <td>Edward Tufte</td>\n",
       "    </tr>\n",
       "    <tr>\n",
       "      <th>2</th>\n",
       "      <td>Practical Object-Oriented Design</td>\n",
       "      <td>30.47</td>\n",
       "      <td>Sandi Metz</td>\n",
       "    </tr>\n",
       "    <tr>\n",
       "      <th>3</th>\n",
       "      <td>Weapons of Math Destruction</td>\n",
       "      <td>17.44</td>\n",
       "      <td>Cathy O'Neil</td>\n",
       "    </tr>\n",
       "  </tbody>\n",
       "</table>\n",
       "</div>"
      ],
      "text/plain": [
       "                                               title  price             author\n",
       "0  Genetic Algorithms and Machine Learning for Pr...  36.99  Frances Buontempo\n",
       "1     The Visual Display of Quantitative Information  38.00       Edward Tufte\n",
       "2                   Practical Object-Oriented Design  30.47         Sandi Metz\n",
       "3                        Weapons of Math Destruction  17.44       Cathy O'Neil"
      ]
     },
     "execution_count": 5,
     "metadata": {},
     "output_type": "execute_result"
    }
   ],
   "source": [
    "books"
   ]
  },
  {
   "cell_type": "code",
   "execution_count": 6,
   "id": "d2e10da2",
   "metadata": {},
   "outputs": [
    {
     "data": {
      "text/plain": [
       "4"
      ]
     },
     "execution_count": 6,
     "metadata": {},
     "output_type": "execute_result"
    }
   ],
   "source": [
    "len(books) \n",
    "#this is a function"
   ]
  },
  {
   "cell_type": "code",
   "execution_count": 7,
   "id": "2e1afa8d",
   "metadata": {},
   "outputs": [
    {
     "data": {
      "text/plain": [
       "(4, 3)"
      ]
     },
     "execution_count": 7,
     "metadata": {},
     "output_type": "execute_result"
    }
   ],
   "source": [
    "books.shape \n",
    "#this is a method.  vs a function (where you put the object in the parentheses)"
   ]
  },
  {
   "cell_type": "code",
   "execution_count": 8,
   "id": "7479b8b6",
   "metadata": {},
   "outputs": [
    {
     "data": {
      "text/plain": [
       "12"
      ]
     },
     "execution_count": 8,
     "metadata": {},
     "output_type": "execute_result"
    }
   ],
   "source": [
    "books.size"
   ]
  },
  {
   "cell_type": "code",
   "execution_count": 9,
   "id": "5d456e96",
   "metadata": {},
   "outputs": [
    {
     "data": {
      "text/plain": [
       "122.9"
      ]
     },
     "execution_count": 9,
     "metadata": {},
     "output_type": "execute_result"
    }
   ],
   "source": [
    "books.price.sum()\n",
    "#dot notation"
   ]
  },
  {
   "cell_type": "code",
   "execution_count": 10,
   "id": "f7d93300",
   "metadata": {},
   "outputs": [
    {
     "name": "stdout",
     "output_type": "stream",
     "text": [
      "0    36.99\n",
      "1    38.00\n",
      "2    30.47\n",
      "3    17.44\n",
      "Name: price, dtype: float64\n"
     ]
    },
    {
     "data": {
      "text/plain": [
       "pandas.core.series.Series"
      ]
     },
     "execution_count": 10,
     "metadata": {},
     "output_type": "execute_result"
    }
   ],
   "source": [
    "print(books.price)\n",
    "type(books.price)"
   ]
  },
  {
   "cell_type": "code",
   "execution_count": 11,
   "id": "dbc31291",
   "metadata": {},
   "outputs": [
    {
     "data": {
      "text/plain": [
       "122.9"
      ]
     },
     "execution_count": 11,
     "metadata": {},
     "output_type": "execute_result"
    }
   ],
   "source": [
    "books['price'].sum()\n",
    "#bracket notation\n",
    "#df[\"column_name\"]\n",
    "#handy if the column_name has a space in it--gives an error"
   ]
  },
  {
   "cell_type": "code",
   "execution_count": 12,
   "id": "0f77b712",
   "metadata": {},
   "outputs": [
    {
     "data": {
      "text/plain": [
       "<bound method NDFrame._add_numeric_operations.<locals>.mean of 0    36.99\n",
       "1    38.00\n",
       "2    30.47\n",
       "3    17.44\n",
       "Name: price, dtype: float64>"
      ]
     },
     "execution_count": 12,
     "metadata": {},
     "output_type": "execute_result"
    }
   ],
   "source": [
    "books.price.mean #etc etc methods"
   ]
  },
  {
   "cell_type": "code",
   "execution_count": 13,
   "id": "56450892",
   "metadata": {},
   "outputs": [
    {
     "data": {
      "text/plain": [
       "RangeIndex(start=0, stop=4, step=1)"
      ]
     },
     "execution_count": 13,
     "metadata": {},
     "output_type": "execute_result"
    }
   ],
   "source": [
    "books.index"
   ]
  },
  {
   "cell_type": "code",
   "execution_count": 14,
   "id": "8ed31b62",
   "metadata": {},
   "outputs": [
    {
     "data": {
      "text/plain": [
       "array([ True, False, False, False])"
      ]
     },
     "execution_count": 14,
     "metadata": {},
     "output_type": "execute_result"
    }
   ],
   "source": [
    "books.index == 0"
   ]
  },
  {
   "cell_type": "code",
   "execution_count": 15,
   "id": "767c8b65",
   "metadata": {},
   "outputs": [
    {
     "data": {
      "text/html": [
       "<div>\n",
       "<style scoped>\n",
       "    .dataframe tbody tr th:only-of-type {\n",
       "        vertical-align: middle;\n",
       "    }\n",
       "\n",
       "    .dataframe tbody tr th {\n",
       "        vertical-align: top;\n",
       "    }\n",
       "\n",
       "    .dataframe thead th {\n",
       "        text-align: right;\n",
       "    }\n",
       "</style>\n",
       "<table border=\"1\" class=\"dataframe\">\n",
       "  <thead>\n",
       "    <tr style=\"text-align: right;\">\n",
       "      <th></th>\n",
       "      <th>title</th>\n",
       "      <th>price</th>\n",
       "      <th>author</th>\n",
       "    </tr>\n",
       "  </thead>\n",
       "  <tbody>\n",
       "    <tr>\n",
       "      <th>0</th>\n",
       "      <td>Genetic Algorithms and Machine Learning for Pr...</td>\n",
       "      <td>36.99</td>\n",
       "      <td>Frances Buontempo</td>\n",
       "    </tr>\n",
       "  </tbody>\n",
       "</table>\n",
       "</div>"
      ],
      "text/plain": [
       "                                               title  price             author\n",
       "0  Genetic Algorithms and Machine Learning for Pr...  36.99  Frances Buontempo"
      ]
     },
     "execution_count": 15,
     "metadata": {},
     "output_type": "execute_result"
    }
   ],
   "source": [
    "books[books.index == 0]"
   ]
  },
  {
   "cell_type": "code",
   "execution_count": 16,
   "id": "a1bd7c78",
   "metadata": {},
   "outputs": [
    {
     "data": {
      "text/plain": [
       "0    36.99\n",
       "Name: price, dtype: float64"
      ]
     },
     "execution_count": 16,
     "metadata": {},
     "output_type": "execute_result"
    }
   ],
   "source": [
    "books['price'][books.index == 0] #great example, think the pets ex on 20 python data manip exs"
   ]
  },
  {
   "cell_type": "code",
   "execution_count": 17,
   "id": "324a6e3e",
   "metadata": {},
   "outputs": [
    {
     "data": {
      "text/plain": [
       "title     Genetic Algorithms and Machine Learning for Pr...\n",
       "price                                                 36.99\n",
       "author                                    Frances Buontempo\n",
       "Name: 0, dtype: object"
      ]
     },
     "execution_count": 17,
     "metadata": {},
     "output_type": "execute_result"
    }
   ],
   "source": [
    "books.iloc[0]"
   ]
  },
  {
   "cell_type": "code",
   "execution_count": 18,
   "id": "fa2a4e3c",
   "metadata": {},
   "outputs": [
    {
     "data": {
      "text/plain": [
       "1"
      ]
     },
     "execution_count": 18,
     "metadata": {},
     "output_type": "execute_result"
    }
   ],
   "source": [
    "books.price.idxmax()"
   ]
  },
  {
   "cell_type": "code",
   "execution_count": 19,
   "id": "6fbce1ab",
   "metadata": {},
   "outputs": [
    {
     "data": {
      "text/html": [
       "<div>\n",
       "<style scoped>\n",
       "    .dataframe tbody tr th:only-of-type {\n",
       "        vertical-align: middle;\n",
       "    }\n",
       "\n",
       "    .dataframe tbody tr th {\n",
       "        vertical-align: top;\n",
       "    }\n",
       "\n",
       "    .dataframe thead th {\n",
       "        text-align: right;\n",
       "    }\n",
       "</style>\n",
       "<table border=\"1\" class=\"dataframe\">\n",
       "  <thead>\n",
       "    <tr style=\"text-align: right;\">\n",
       "      <th></th>\n",
       "      <th>title</th>\n",
       "      <th>price</th>\n",
       "      <th>author</th>\n",
       "    </tr>\n",
       "  </thead>\n",
       "  <tbody>\n",
       "    <tr>\n",
       "      <th>1</th>\n",
       "      <td>The Visual Display of Quantitative Information</td>\n",
       "      <td>38.0</td>\n",
       "      <td>Edward Tufte</td>\n",
       "    </tr>\n",
       "  </tbody>\n",
       "</table>\n",
       "</div>"
      ],
      "text/plain": [
       "                                            title  price        author\n",
       "1  The Visual Display of Quantitative Information   38.0  Edward Tufte"
      ]
     },
     "execution_count": 19,
     "metadata": {},
     "output_type": "execute_result"
    }
   ],
   "source": [
    "books[books.index == books.price.idxmax()]"
   ]
  },
  {
   "cell_type": "code",
   "execution_count": 20,
   "id": "136ddd4c",
   "metadata": {},
   "outputs": [
    {
     "ename": "KeyError",
     "evalue": "1",
     "output_type": "error",
     "traceback": [
      "\u001b[0;31m---------------------------------------------------------------------------\u001b[0m",
      "\u001b[0;31mKeyError\u001b[0m                                  Traceback (most recent call last)",
      "\u001b[0;32m/usr/local/anaconda3/lib/python3.8/site-packages/pandas/core/indexes/base.py\u001b[0m in \u001b[0;36mget_loc\u001b[0;34m(self, key, method, tolerance)\u001b[0m\n\u001b[1;32m   3079\u001b[0m             \u001b[0;32mtry\u001b[0m\u001b[0;34m:\u001b[0m\u001b[0;34m\u001b[0m\u001b[0;34m\u001b[0m\u001b[0m\n\u001b[0;32m-> 3080\u001b[0;31m                 \u001b[0;32mreturn\u001b[0m \u001b[0mself\u001b[0m\u001b[0;34m.\u001b[0m\u001b[0m_engine\u001b[0m\u001b[0;34m.\u001b[0m\u001b[0mget_loc\u001b[0m\u001b[0;34m(\u001b[0m\u001b[0mcasted_key\u001b[0m\u001b[0;34m)\u001b[0m\u001b[0;34m\u001b[0m\u001b[0;34m\u001b[0m\u001b[0m\n\u001b[0m\u001b[1;32m   3081\u001b[0m             \u001b[0;32mexcept\u001b[0m \u001b[0mKeyError\u001b[0m \u001b[0;32mas\u001b[0m \u001b[0merr\u001b[0m\u001b[0;34m:\u001b[0m\u001b[0;34m\u001b[0m\u001b[0;34m\u001b[0m\u001b[0m\n",
      "\u001b[0;32mpandas/_libs/index.pyx\u001b[0m in \u001b[0;36mpandas._libs.index.IndexEngine.get_loc\u001b[0;34m()\u001b[0m\n",
      "\u001b[0;32mpandas/_libs/index.pyx\u001b[0m in \u001b[0;36mpandas._libs.index.IndexEngine.get_loc\u001b[0;34m()\u001b[0m\n",
      "\u001b[0;32mpandas/_libs/hashtable_class_helper.pxi\u001b[0m in \u001b[0;36mpandas._libs.hashtable.PyObjectHashTable.get_item\u001b[0;34m()\u001b[0m\n",
      "\u001b[0;32mpandas/_libs/hashtable_class_helper.pxi\u001b[0m in \u001b[0;36mpandas._libs.hashtable.PyObjectHashTable.get_item\u001b[0;34m()\u001b[0m\n",
      "\u001b[0;31mKeyError\u001b[0m: 1",
      "\nThe above exception was the direct cause of the following exception:\n",
      "\u001b[0;31mKeyError\u001b[0m                                  Traceback (most recent call last)",
      "\u001b[0;32m<ipython-input-20-839da0fcde6b>\u001b[0m in \u001b[0;36m<module>\u001b[0;34m\u001b[0m\n\u001b[0;32m----> 1\u001b[0;31m \u001b[0mbooks\u001b[0m\u001b[0;34m[\u001b[0m\u001b[0mbooks\u001b[0m\u001b[0;34m.\u001b[0m\u001b[0mprice\u001b[0m\u001b[0;34m.\u001b[0m\u001b[0midxmax\u001b[0m\u001b[0;34m(\u001b[0m\u001b[0;34m)\u001b[0m\u001b[0;34m]\u001b[0m \u001b[0;31m#doesn't work b/c it is looking for a column named '1'\u001b[0m\u001b[0;34m\u001b[0m\u001b[0;34m\u001b[0m\u001b[0m\n\u001b[0m",
      "\u001b[0;32m/usr/local/anaconda3/lib/python3.8/site-packages/pandas/core/frame.py\u001b[0m in \u001b[0;36m__getitem__\u001b[0;34m(self, key)\u001b[0m\n\u001b[1;32m   3022\u001b[0m             \u001b[0;32mif\u001b[0m \u001b[0mself\u001b[0m\u001b[0;34m.\u001b[0m\u001b[0mcolumns\u001b[0m\u001b[0;34m.\u001b[0m\u001b[0mnlevels\u001b[0m \u001b[0;34m>\u001b[0m \u001b[0;36m1\u001b[0m\u001b[0;34m:\u001b[0m\u001b[0;34m\u001b[0m\u001b[0;34m\u001b[0m\u001b[0m\n\u001b[1;32m   3023\u001b[0m                 \u001b[0;32mreturn\u001b[0m \u001b[0mself\u001b[0m\u001b[0;34m.\u001b[0m\u001b[0m_getitem_multilevel\u001b[0m\u001b[0;34m(\u001b[0m\u001b[0mkey\u001b[0m\u001b[0;34m)\u001b[0m\u001b[0;34m\u001b[0m\u001b[0;34m\u001b[0m\u001b[0m\n\u001b[0;32m-> 3024\u001b[0;31m             \u001b[0mindexer\u001b[0m \u001b[0;34m=\u001b[0m \u001b[0mself\u001b[0m\u001b[0;34m.\u001b[0m\u001b[0mcolumns\u001b[0m\u001b[0;34m.\u001b[0m\u001b[0mget_loc\u001b[0m\u001b[0;34m(\u001b[0m\u001b[0mkey\u001b[0m\u001b[0;34m)\u001b[0m\u001b[0;34m\u001b[0m\u001b[0;34m\u001b[0m\u001b[0m\n\u001b[0m\u001b[1;32m   3025\u001b[0m             \u001b[0;32mif\u001b[0m \u001b[0mis_integer\u001b[0m\u001b[0;34m(\u001b[0m\u001b[0mindexer\u001b[0m\u001b[0;34m)\u001b[0m\u001b[0;34m:\u001b[0m\u001b[0;34m\u001b[0m\u001b[0;34m\u001b[0m\u001b[0m\n\u001b[1;32m   3026\u001b[0m                 \u001b[0mindexer\u001b[0m \u001b[0;34m=\u001b[0m \u001b[0;34m[\u001b[0m\u001b[0mindexer\u001b[0m\u001b[0;34m]\u001b[0m\u001b[0;34m\u001b[0m\u001b[0;34m\u001b[0m\u001b[0m\n",
      "\u001b[0;32m/usr/local/anaconda3/lib/python3.8/site-packages/pandas/core/indexes/base.py\u001b[0m in \u001b[0;36mget_loc\u001b[0;34m(self, key, method, tolerance)\u001b[0m\n\u001b[1;32m   3080\u001b[0m                 \u001b[0;32mreturn\u001b[0m \u001b[0mself\u001b[0m\u001b[0;34m.\u001b[0m\u001b[0m_engine\u001b[0m\u001b[0;34m.\u001b[0m\u001b[0mget_loc\u001b[0m\u001b[0;34m(\u001b[0m\u001b[0mcasted_key\u001b[0m\u001b[0;34m)\u001b[0m\u001b[0;34m\u001b[0m\u001b[0;34m\u001b[0m\u001b[0m\n\u001b[1;32m   3081\u001b[0m             \u001b[0;32mexcept\u001b[0m \u001b[0mKeyError\u001b[0m \u001b[0;32mas\u001b[0m \u001b[0merr\u001b[0m\u001b[0;34m:\u001b[0m\u001b[0;34m\u001b[0m\u001b[0;34m\u001b[0m\u001b[0m\n\u001b[0;32m-> 3082\u001b[0;31m                 \u001b[0;32mraise\u001b[0m \u001b[0mKeyError\u001b[0m\u001b[0;34m(\u001b[0m\u001b[0mkey\u001b[0m\u001b[0;34m)\u001b[0m \u001b[0;32mfrom\u001b[0m \u001b[0merr\u001b[0m\u001b[0;34m\u001b[0m\u001b[0;34m\u001b[0m\u001b[0m\n\u001b[0m\u001b[1;32m   3083\u001b[0m \u001b[0;34m\u001b[0m\u001b[0m\n\u001b[1;32m   3084\u001b[0m         \u001b[0;32mif\u001b[0m \u001b[0mtolerance\u001b[0m \u001b[0;32mis\u001b[0m \u001b[0;32mnot\u001b[0m \u001b[0;32mNone\u001b[0m\u001b[0;34m:\u001b[0m\u001b[0;34m\u001b[0m\u001b[0;34m\u001b[0m\u001b[0m\n",
      "\u001b[0;31mKeyError\u001b[0m: 1"
     ]
    }
   ],
   "source": [
    "books[books.price.idxmax()] #doesn't work b/c it is looking for a column named '1'"
   ]
  },
  {
   "cell_type": "code",
   "execution_count": null,
   "id": "25e89a66",
   "metadata": {},
   "outputs": [],
   "source": [
    "books.iloc[books.price.idxmax()]#this works instead"
   ]
  },
  {
   "cell_type": "code",
   "execution_count": null,
   "id": "724a4690",
   "metadata": {},
   "outputs": [],
   "source": [
    "#or creat a variable:\n",
    "lowest_price_mask = books.index == books.price.idxmin()\n",
    "books[lowest_price_mask]\n",
    "\n",
    "#REMEMBER THIS ONE\n"
   ]
  },
  {
   "cell_type": "code",
   "execution_count": null,
   "id": "58d14f02",
   "metadata": {},
   "outputs": [],
   "source": [
    "books[books.index >= 2] #one of the best pandas tools"
   ]
  },
  {
   "cell_type": "code",
   "execution_count": null,
   "id": "b2f4f727",
   "metadata": {},
   "outputs": [],
   "source": [
    "sandi_metz_dataframe = books[books.author == 'Sandi Metz']"
   ]
  },
  {
   "cell_type": "code",
   "execution_count": null,
   "id": "e5f0f0a4",
   "metadata": {},
   "outputs": [],
   "source": [
    "sandi_metz_dataframe"
   ]
  },
  {
   "cell_type": "code",
   "execution_count": null,
   "id": "e3c6fbc6",
   "metadata": {},
   "outputs": [],
   "source": [
    "books[books.author.str.contains('ndi Metz')]"
   ]
  },
  {
   "cell_type": "code",
   "execution_count": null,
   "id": "851f443e",
   "metadata": {},
   "outputs": [],
   "source": [
    "x = pd.Series(range(1,11))\n",
    "x >= 5"
   ]
  },
  {
   "cell_type": "code",
   "execution_count": null,
   "id": "7fad2e34",
   "metadata": {},
   "outputs": [],
   "source": [
    "x[x>=5]"
   ]
  },
  {
   "cell_type": "markdown",
   "id": "4e618c01",
   "metadata": {},
   "source": [
    "##  An Example Dataframe\n",
    "\n",
    "The code below will create a data frame that represents grades for multiple students. We pass a dictionary where the keys will correspond to the names of the columns, and the values associated with those keys will make up the data. We will talk in more detail about different ways to create a dataframe in a coming lesson.\n",
    "\n"
   ]
  },
  {
   "cell_type": "code",
   "execution_count": null,
   "id": "bec880a0",
   "metadata": {},
   "outputs": [],
   "source": [
    "import numpy as np\n",
    "\n",
    "np.random.seed(123)\n",
    "\n",
    "students = ['Sally', 'Jane', 'Suzie', 'Billy', 'Ada', 'John', 'Thomas',\n",
    "            'Marie', 'Albert', 'Richard', 'Isaac', 'Alan']\n",
    "\n",
    "# randomly generate scores for each student for each subject\n",
    "# note that all the values need to have the same length here\n",
    "math_grades = np.random.randint(low=60, high=100, size=len(students))\n",
    "english_grades = np.random.randint(low=60, high=100, size=len(students))\n",
    "reading_grades = np.random.randint(low=60, high=100, size=len(students))\n",
    "\n",
    "df = pd.DataFrame({'name': students,\n",
    "                   'math': math_grades,\n",
    "                   'english': english_grades,\n",
    "                   'reading': reading_grades})\n",
    "\n",
    "type(df)"
   ]
  },
  {
   "cell_type": "code",
   "execution_count": null,
   "id": "8e34e9d6",
   "metadata": {},
   "outputs": [],
   "source": [
    "print(df)"
   ]
  },
  {
   "cell_type": "code",
   "execution_count": null,
   "id": "fcd15f45",
   "metadata": {},
   "outputs": [],
   "source": [
    "df"
   ]
  },
  {
   "cell_type": "code",
   "execution_count": null,
   "id": "63709777",
   "metadata": {},
   "outputs": [],
   "source": [
    "df[df['name'] == 'Jane']\n",
    "#specific row by name"
   ]
  },
  {
   "cell_type": "code",
   "execution_count": null,
   "id": "91682db1",
   "metadata": {},
   "outputs": [],
   "source": [
    "#albert's math score??\n",
    "df[df.name == \"Albert\"].math"
   ]
  },
  {
   "cell_type": "code",
   "execution_count": null,
   "id": "84988405",
   "metadata": {},
   "outputs": [],
   "source": [
    "df.name == \"Albert\""
   ]
  },
  {
   "cell_type": "code",
   "execution_count": null,
   "id": "63c834fd",
   "metadata": {},
   "outputs": [],
   "source": [
    "albert_mask = df.name == \"Albert\""
   ]
  },
  {
   "cell_type": "code",
   "execution_count": null,
   "id": "26ac60ae",
   "metadata": {},
   "outputs": [],
   "source": [
    "df[albert_mask]"
   ]
  },
  {
   "cell_type": "code",
   "execution_count": null,
   "id": "9041a549",
   "metadata": {},
   "outputs": [],
   "source": [
    "albert_records = df[albert_mask]"
   ]
  },
  {
   "cell_type": "code",
   "execution_count": null,
   "id": "56f490d5",
   "metadata": {},
   "outputs": [],
   "source": [
    "albert_records.math"
   ]
  },
  {
   "cell_type": "markdown",
   "id": "f02ab638",
   "metadata": {},
   "source": [
    "# Summarizing Dataframes"
   ]
  },
  {
   "cell_type": "code",
   "execution_count": null,
   "id": "301586a9",
   "metadata": {},
   "outputs": [],
   "source": [
    "df"
   ]
  },
  {
   "cell_type": "code",
   "execution_count": null,
   "id": "257d5166",
   "metadata": {},
   "outputs": [],
   "source": [
    "df.info()"
   ]
  },
  {
   "cell_type": "code",
   "execution_count": null,
   "id": "dcd1d60a",
   "metadata": {},
   "outputs": [],
   "source": [
    "df.describe()"
   ]
  },
  {
   "cell_type": "code",
   "execution_count": null,
   "id": "437c6db7",
   "metadata": {},
   "outputs": [],
   "source": [
    "df.describe().index"
   ]
  },
  {
   "cell_type": "code",
   "execution_count": null,
   "id": "e21fd28f",
   "metadata": {},
   "outputs": [],
   "source": [
    "df.dtypes #super helpful"
   ]
  },
  {
   "cell_type": "code",
   "execution_count": null,
   "id": "a3dff63c",
   "metadata": {},
   "outputs": [],
   "source": [
    "df.shape"
   ]
  },
  {
   "cell_type": "code",
   "execution_count": null,
   "id": "dbfb6813",
   "metadata": {},
   "outputs": [],
   "source": [
    "type(df.shape)\n",
    "#you can call on a tuple"
   ]
  },
  {
   "cell_type": "code",
   "execution_count": null,
   "id": "70afca80",
   "metadata": {},
   "outputs": [],
   "source": [
    "#number of rows?\n",
    "df.shape[0]"
   ]
  },
  {
   "cell_type": "code",
   "execution_count": null,
   "id": "67f2dbc2",
   "metadata": {},
   "outputs": [],
   "source": [
    "#number columns?\n",
    "df.shape[1]"
   ]
  },
  {
   "cell_type": "code",
   "execution_count": null,
   "id": "2b0d77b7",
   "metadata": {},
   "outputs": [],
   "source": [
    "df.columns"
   ]
  },
  {
   "cell_type": "code",
   "execution_count": null,
   "id": "7426dd3c",
   "metadata": {},
   "outputs": [],
   "source": [
    "df.index"
   ]
  },
  {
   "cell_type": "code",
   "execution_count": null,
   "id": "c1eaabc7",
   "metadata": {},
   "outputs": [],
   "source": [
    "[col.upper() for col in df.columns] #not the alias in the list comprehension"
   ]
  },
  {
   "cell_type": "code",
   "execution_count": null,
   "id": "cdb16b3b",
   "metadata": {},
   "outputs": [],
   "source": [
    "df.columns = [col.upper() for col in df.columns] \n",
    "#capitalizes yourj column names"
   ]
  },
  {
   "cell_type": "code",
   "execution_count": null,
   "id": "04667a61",
   "metadata": {},
   "outputs": [],
   "source": [
    "df"
   ]
  },
  {
   "cell_type": "markdown",
   "id": "6d596860",
   "metadata": {},
   "source": [
    "## Subsetting Dataframes\n",
    "We can see multiple columns in the df by subsetting the df with a list of strings. Next 2 examples are functionally equivalent"
   ]
  },
  {
   "cell_type": "code",
   "execution_count": null,
   "id": "db17f990",
   "metadata": {},
   "outputs": [],
   "source": [
    "df[['NAME','MATH']]\n",
    "#DOUBLE brackets; otherwise it would be like searching for a tuple with those names"
   ]
  },
  {
   "cell_type": "code",
   "execution_count": null,
   "id": "2a616174",
   "metadata": {},
   "outputs": [],
   "source": [
    "df.head()"
   ]
  },
  {
   "cell_type": "code",
   "execution_count": null,
   "id": "1ff407be",
   "metadata": {},
   "outputs": [],
   "source": [
    "math_df = df[name_math_columns]"
   ]
  },
  {
   "cell_type": "code",
   "execution_count": null,
   "id": "d5dd06a2",
   "metadata": {},
   "outputs": [],
   "source": [
    "df['MATH']"
   ]
  },
  {
   "cell_type": "code",
   "execution_count": null,
   "id": "df3358af",
   "metadata": {},
   "outputs": [],
   "source": [
    "#.head, .tail, .sample"
   ]
  },
  {
   "cell_type": "markdown",
   "id": "6f9f1fc2",
   "metadata": {},
   "source": [
    "Like numpy arrays and pandas Series, pandas dataframes can also be indexed into with a boolean series.\n",
    "\n",
    "For example, suppose we wanted to find the observations in our dataframe where the math grade is below an 80. We know that we can produce a boolean series of values using a vectorized comparison operation:\n",
    "\n"
   ]
  },
  {
   "cell_type": "code",
   "execution_count": null,
   "id": "5a869026",
   "metadata": {},
   "outputs": [],
   "source": [
    "df.MATH < 80 \n",
    "#the boolean mask that meets the condition\n",
    "#indexing syntax\n",
    "#df[df.column operator operand]"
   ]
  },
  {
   "cell_type": "code",
   "execution_count": null,
   "id": "ff7fc467",
   "metadata": {},
   "outputs": [],
   "source": [
    "#Using multiple operators\n",
    "#df[(mask1)|(mask2)]\n",
    "df[(df.MATH < 80) | (df.READING >90)]"
   ]
  },
  {
   "cell_type": "code",
   "execution_count": null,
   "id": "08fda946",
   "metadata": {},
   "outputs": [],
   "source": [
    "#or make variables \n",
    "#df[math_less_than_80 & reading_greater_than_90]\n",
    "#for instance"
   ]
  },
  {
   "cell_type": "markdown",
   "id": "f4f3a518",
   "metadata": {},
   "source": [
    "## Dropping and Renaming Columns\n",
    "`.drop` method; `.rename` methos\n",
    "\n",
    "They don't change the original df.  There is an argument that can be passed that will change it (inside the parentheses).\n",
    "\n",
    "`.drop(['column'], inplace=True`)"
   ]
  },
  {
   "cell_type": "code",
   "execution_count": null,
   "id": "df551605",
   "metadata": {},
   "outputs": [],
   "source": [
    "df"
   ]
  },
  {
   "cell_type": "code",
   "execution_count": null,
   "id": "5d7a9fe8",
   "metadata": {},
   "outputs": [],
   "source": [
    "df.drop(columns = ['NAME'])"
   ]
  },
  {
   "cell_type": "code",
   "execution_count": null,
   "id": "eaf632ff",
   "metadata": {},
   "outputs": [],
   "source": [
    "df"
   ]
  },
  {
   "cell_type": "code",
   "execution_count": null,
   "id": "00fb04b3",
   "metadata": {},
   "outputs": [],
   "source": [
    "copy = df.copy()\n",
    "#create a copy of the og df\n",
    "#otherwise, any change to one will also change the other"
   ]
  },
  {
   "cell_type": "code",
   "execution_count": null,
   "id": "4f6a9ea3",
   "metadata": {},
   "outputs": [],
   "source": [
    "#.drop returns a copy, so reassigning is the 1st way to hold the new copy\n",
    "copy = copy.drop(columns=['ENGLISH','READING'])\n",
    "\n",
    "copy\n",
    "#then i can go back to the previous cell to get back everything"
   ]
  },
  {
   "cell_type": "code",
   "execution_count": null,
   "id": "f103fdd7",
   "metadata": {},
   "outputs": [],
   "source": [
    "copy.drop(columns=['MATH'], inplace = True)"
   ]
  },
  {
   "cell_type": "code",
   "execution_count": null,
   "id": "ced55a19",
   "metadata": {},
   "outputs": [],
   "source": [
    "copy"
   ]
  },
  {
   "cell_type": "code",
   "execution_count": null,
   "id": "199c9ff2",
   "metadata": {},
   "outputs": [],
   "source": [
    "df"
   ]
  },
  {
   "cell_type": "code",
   "execution_count": null,
   "id": "accae8e9",
   "metadata": {},
   "outputs": [],
   "source": [
    "#.rename to reassign specific columns.  pass in a dictionary with same # of values\n",
    "df.rename(columns={'NAME':'name', 'MATH': 'math'})"
   ]
  },
  {
   "cell_type": "code",
   "execution_count": null,
   "id": "c1c2d188",
   "metadata": {},
   "outputs": [],
   "source": [
    "df.drop(columns=['ENGLISH', 'READING']).rename(columns={'NAME':'student'})\n",
    "#NOTE HOW .DROP TAKES A LIST AND RENAME TAKES A DICTIONARY!!!!WOW"
   ]
  },
  {
   "cell_type": "markdown",
   "id": "93ec34a4",
   "metadata": {},
   "source": [
    "## Creating New Columns\n",
    "\n",
    "Usually a new column is based on existing ones\n",
    "\n",
    "EG, new boolean col that indicates whether each student is passing math"
   ]
  },
  {
   "cell_type": "code",
   "execution_count": null,
   "id": "6f78c602",
   "metadata": {},
   "outputs": [],
   "source": [
    "df.MATH > 70"
   ]
  },
  {
   "cell_type": "code",
   "execution_count": null,
   "id": "fa77dd6c",
   "metadata": {},
   "outputs": [],
   "source": [
    "df['passing_math']  = df.MATH > 70"
   ]
  },
  {
   "cell_type": "code",
   "execution_count": null,
   "id": "0103eacd",
   "metadata": {},
   "outputs": [],
   "source": [
    "df"
   ]
  },
  {
   "cell_type": "code",
   "execution_count": null,
   "id": "f8ac7a0f",
   "metadata": {},
   "outputs": [],
   "source": [
    "df.passing_math.sum()"
   ]
  },
  {
   "cell_type": "code",
   "execution_count": null,
   "id": "ad852180",
   "metadata": {},
   "outputs": [],
   "source": [
    "df.passing_math.mean()"
   ]
  },
  {
   "cell_type": "markdown",
   "id": "9cc1f29e",
   "metadata": {},
   "source": [
    "Assign also works by returning a new df w/o altering the original"
   ]
  },
  {
   "cell_type": "code",
   "execution_count": null,
   "id": "f4bffd14",
   "metadata": {},
   "outputs": [],
   "source": [
    "df.assign(passing_english=df.ENGLISH >= 70)"
   ]
  },
  {
   "cell_type": "code",
   "execution_count": null,
   "id": "ef52252d",
   "metadata": {},
   "outputs": [],
   "source": [
    "df['school'] = 'S.A. HS'\n",
    "df"
   ]
  },
  {
   "cell_type": "code",
   "execution_count": null,
   "id": "37b88a61",
   "metadata": {},
   "outputs": [],
   "source": [
    "df['school'] = 'Codeup'\n",
    "df"
   ]
  },
  {
   "cell_type": "markdown",
   "id": "3a85e6fe",
   "metadata": {},
   "source": [
    "## Sorting DFs\n",
    "\n",
    "`.sort_values()`"
   ]
  },
  {
   "cell_type": "code",
   "execution_count": null,
   "id": "d384bc32",
   "metadata": {},
   "outputs": [],
   "source": [
    "df.sort_values(by=\"ENGLISH\", ascending = False)"
   ]
  },
  {
   "cell_type": "markdown",
   "id": "3c367366",
   "metadata": {},
   "source": [
    "## Chaining DF Methods\n",
    "\n",
    "Bc most methods return a DF, it's common to chain them"
   ]
  },
  {
   "cell_type": "code",
   "execution_count": null,
   "id": "7be81d29",
   "metadata": {},
   "outputs": [],
   "source": [
    "#simple ex\n",
    "\"hello\".capitalize().swapcase()"
   ]
  },
  {
   "cell_type": "code",
   "execution_count": null,
   "id": "a05d8902",
   "metadata": {},
   "outputs": [],
   "source": [
    "df[df.ENGLISH > 90].sort_values(by='ENGLISH').head(1).NAME"
   ]
  },
  {
   "cell_type": "code",
   "execution_count": null,
   "id": "88eef9e8",
   "metadata": {},
   "outputs": [],
   "source": [
    "df[df.ENGLISH  > 90]"
   ]
  },
  {
   "cell_type": "code",
   "execution_count": null,
   "id": "76c4a863",
   "metadata": {},
   "outputs": [],
   "source": [
    "df[df.ENGLISH >90].sort_values(by='ENGLISH').head(1).NAME"
   ]
  },
  {
   "cell_type": "markdown",
   "id": "6392aa2f",
   "metadata": {},
   "source": [
    "### SELF CHECK: WHERE'S YOUR BOOLEAN MASK ABOVE??"
   ]
  },
  {
   "cell_type": "markdown",
   "id": "e8c9a9a6",
   "metadata": {},
   "source": [
    "Let's break down the above expression piece by piece:\n",
    "\n",
    "1. df: our initial variable that holds our dataframe\n",
    "2. [df.ENGLISH > 90]: here we subset the datframe to find just the rows where the english grade is greater than 90\n",
    "3. .sort_values(by='ENGLISH'): now we take the remaining rows and sort them by the english grade\n",
    "4. .head(1): take just the first record. Because we sorted previously, this will give us the student with lowest english grade\n",
    "5. .NAME: extract just the name part of the record"
   ]
  },
  {
   "cell_type": "code",
   "execution_count": null,
   "id": "ef942da0",
   "metadata": {},
   "outputs": [],
   "source": []
  }
 ],
 "metadata": {
  "kernelspec": {
   "display_name": "Python 3",
   "language": "python",
   "name": "python3"
  },
  "language_info": {
   "codemirror_mode": {
    "name": "ipython",
    "version": 3
   },
   "file_extension": ".py",
   "mimetype": "text/x-python",
   "name": "python",
   "nbconvert_exporter": "python",
   "pygments_lexer": "ipython3",
   "version": "3.8.8"
  }
 },
 "nbformat": 4,
 "nbformat_minor": 5
}
