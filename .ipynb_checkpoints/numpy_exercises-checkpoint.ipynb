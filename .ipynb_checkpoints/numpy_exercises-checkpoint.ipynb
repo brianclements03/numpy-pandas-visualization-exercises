{
 "cells": [
  {
   "cell_type": "code",
   "execution_count": 1,
   "id": "939cd2f1",
   "metadata": {},
   "outputs": [],
   "source": [
    "import numpy as np"
   ]
  },
  {
   "cell_type": "code",
   "execution_count": 2,
   "id": "0833ce65",
   "metadata": {},
   "outputs": [],
   "source": [
    "a = np.array([4, 10, 12, 23, -2, -1, 0, 0, 0, -6, 3, -7])"
   ]
  },
  {
   "cell_type": "markdown",
   "id": "89613e42",
   "metadata": {},
   "source": [
    "How many negative numbers are there?"
   ]
  },
  {
   "cell_type": "code",
   "execution_count": 13,
   "id": "1f4fe78d",
   "metadata": {},
   "outputs": [
    {
     "data": {
      "text/plain": [
       "4"
      ]
     },
     "execution_count": 13,
     "metadata": {},
     "output_type": "execute_result"
    }
   ],
   "source": [
    "negative_numbers = a < 0\n",
    "negative_numbers\n",
    "len(a[negative_numbers])"
   ]
  },
  {
   "cell_type": "markdown",
   "id": "5f15a2d9",
   "metadata": {},
   "source": [
    "How many positive numbers are there?"
   ]
  },
  {
   "cell_type": "code",
   "execution_count": 15,
   "id": "38205ea9",
   "metadata": {},
   "outputs": [
    {
     "data": {
      "text/plain": [
       "5"
      ]
     },
     "execution_count": 15,
     "metadata": {},
     "output_type": "execute_result"
    }
   ],
   "source": [
    "positive_numbers = a > 0\n",
    "positive_numbers\n",
    "len(a[positive_numbers])"
   ]
  },
  {
   "cell_type": "markdown",
   "id": "92f578fa",
   "metadata": {},
   "source": [
    "How many even positive numbers are there?\n",
    "\n"
   ]
  },
  {
   "cell_type": "code",
   "execution_count": 18,
   "id": "933aaff3",
   "metadata": {},
   "outputs": [
    {
     "data": {
      "text/plain": [
       "3"
      ]
     },
     "execution_count": 18,
     "metadata": {},
     "output_type": "execute_result"
    }
   ],
   "source": [
    "even_numbers = a % 2 == 0\n",
    "len(a[even_numbers & positive_numbers])"
   ]
  },
  {
   "cell_type": "markdown",
   "id": "d83e5dc0",
   "metadata": {},
   "source": [
    "If you were to add 3 to each data point, how many positive numbers would there be?\n",
    "\n"
   ]
  },
  {
   "cell_type": "code",
   "execution_count": null,
   "id": "b1cc0127",
   "metadata": {},
   "outputs": [],
   "source": []
  }
 ],
 "metadata": {
  "kernelspec": {
   "display_name": "Python 3",
   "language": "python",
   "name": "python3"
  },
  "language_info": {
   "codemirror_mode": {
    "name": "ipython",
    "version": 3
   },
   "file_extension": ".py",
   "mimetype": "text/x-python",
   "name": "python",
   "nbconvert_exporter": "python",
   "pygments_lexer": "ipython3",
   "version": "3.8.8"
  }
 },
 "nbformat": 4,
 "nbformat_minor": 5
}
